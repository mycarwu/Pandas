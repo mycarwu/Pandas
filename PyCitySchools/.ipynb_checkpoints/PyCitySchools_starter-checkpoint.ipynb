{
 "cells": [
  {
   "cell_type": "markdown",
   "metadata": {},
   "source": [
    "# PyCity Schools Analysis\n",
    "\n",
    "* As a whole, schools with higher budgets, did not yield better test results. By contrast, schools with higher spending per student actually (\\$645-675) underperformed compared to schools with smaller budgets (<\\$585 per student).\n",
    "\n",
    "* As a whole, smaller and medium sized schools dramatically out-performed large sized schools on passing math performances (89-91% passing vs 67%).\n",
    "\n",
    "* As a whole, charter schools out-performed the public district schools across all metrics. However, more analysis will be required to glean if the effect is due to school practices or the fact that charter schools tend to serve smaller student populations per school. \n",
    "---"
   ]
  },
  {
   "cell_type": "markdown",
   "metadata": {},
   "source": [
    "### Note\n",
    "* Instructions have been included for each segment. You do not have to follow them exactly, but they are included to help you think through the steps."
   ]
  },
  {
   "cell_type": "code",
   "execution_count": null,
   "metadata": {
    "scrolled": true
   },
   "outputs": [],
   "source": [
    "# Dependencies and Setup\n",
    "import pandas as pd\n",
    "import numpy as np\n",
    "\n",
    "# File to Load (Remember to Change These)\n",
    "school_data_to_load = \"Resources/schools_complete.csv\"\n",
    "student_data_to_load = \"Resources/students_complete.csv\"\n",
    "\n",
    "# Read School and Student Data File and store into Pandas Data Frames\n",
    "school_data = pd.read_csv(school_data_to_load)\n",
    "student_data = pd.read_csv(student_data_to_load)\n",
    "\n",
    "# Combine the data into a single dataset\n",
    "school_data_complete = pd.merge(student_data, school_data, how=\"left\", on=[\"school_name\", \"school_name\"])\n",
    "\n",
    "school_data_complete.head()"
   ]
  },
  {
   "cell_type": "markdown",
   "metadata": {},
   "source": [
    "## District Summary\n",
    "\n",
    "* Calculate the total number of schools\n",
    "\n",
    "* Calculate the total number of students\n",
    "\n",
    "* Calculate the total budget\n",
    "\n",
    "* Calculate the average math score \n",
    "\n",
    "* Calculate the average reading score\n",
    "\n",
    "* Calculate the overall passing rate (overall average score), i.e. (avg. math score + avg. reading score)/2\n",
    "\n",
    "* Calculate the percentage of students with a passing math score (70 or greater)\n",
    "\n",
    "* Calculate the percentage of students with a passing reading score (70 or greater)\n",
    "\n",
    "* Create a dataframe to hold the above results\n",
    "\n",
    "* Optional: give the displayed data cleaner formatting"
   ]
  },
  {
   "cell_type": "code",
   "execution_count": null,
   "metadata": {},
   "outputs": [],
   "source": [
    "Total_Schools = school_data[\"School ID\"].count()\n",
    "total_s= school_data_complete[\"Student ID\"].count()\n",
    "Total_Students = \"{:,}\".format(total_s)\n",
    "total_b = school_data[\"budget\"].sum()\n",
    "total_b = \"${:,.2f}\".format(total_b)\n",
    "Total_Budget = total_b\n",
    "Average_Math_Score = school_data_complete[\"math_score\"].mean()\n",
    "Average_Reading_Score = school_data_complete[\"reading_score\"].mean()\n",
    "Passing_Math_Score = ((school_data_complete[\"math_score\"])>=70).mean()\n",
    "Passing_Reading_Score = ((school_data_complete[\"reading_score\"])>=70).mean()\n",
    "Overall_Passing = (Average_Math_Score + Average_Reading_Score)/2\n",
    "\n",
    "\n",
    "PyCity=pd.DataFrame({\"Total Schools\":[Total_Schools],\n",
    "                    \"Total Students\":[Total_Students],\n",
    "                    \"Total Budget\":[Total_Budget],\n",
    "                    \"Average Math Score\":[Average_Math_Score],\n",
    "                    \"Average Reading Score\":[Average_Reading_Score],\n",
    "                    \"% Passing Math\":[Passing_Math_Score],\n",
    "                    \"% Passing Reading\":[Passing_Reading_Score], \n",
    "                    \"% Overall Passing\":[Overall_Passing]})\n",
    "PyCity"
   ]
  },
  {
   "cell_type": "markdown",
   "metadata": {},
   "source": [
    "## School Summary"
   ]
  },
  {
   "cell_type": "markdown",
   "metadata": {},
   "source": [
    "* Create an overview table that summarizes key metrics about each school, including:\n",
    "  * School Name\n",
    "  * School Type\n",
    "  * Total Students\n",
    "  * Total School Budget\n",
    "  * Per Student Budget\n",
    "  * Average Math Score\n",
    "  * Average Reading Score\n",
    "  * % Passing Math\n",
    "  * % Passing Reading\n",
    "  * Overall Passing Rate (Average of the above two)\n",
    "  \n",
    "* Create a dataframe to hold the above results"
   ]
  },
  {
   "cell_type": "markdown",
   "metadata": {},
   "source": [
    "## Top Performing Schools (By Passing Rate)"
   ]
  },
  {
   "cell_type": "markdown",
   "metadata": {},
   "source": [
    "* Sort and display the top five schools in overall passing rate"
   ]
  },
  {
   "cell_type": "code",
   "execution_count": null,
   "metadata": {
    "scrolled": true
   },
   "outputs": [],
   "source": [
    "# summary_table = pd.DataFrame(school_data[\"school_name\"],\n",
    "# school_data[\"type\"],\n",
    "# school_data[\"budget\"],\n",
    "# school_data_complete[\"Student ID\"],\n",
    "# school_data_complete[\"reading_score\"],\n",
    "# school_data_complete[\"math_score\"])\n",
    "\n",
    "# summary_table\n",
    "\n",
    "# school_data_complete[\"math_score\"] = pd.to_numeric(\n",
    "#     school_data_complete[\"math_score\"])\n",
    "\n",
    "# school_data\n",
    "\n",
    "school_name = school_data.groupby([\"school_name\"])\n",
    "\n",
    "performing_school = school_name\n",
    "performing_school.head()\n",
    "\n",
    "school_type = school_name[\"type\"]\n",
    "\n",
    "school_type.head()\n",
    "\n",
    "In_total_budget = school_name[\"budget\"].sum()\n",
    "\n",
    "average_school = school_data_complete.groupby([\"school_name\"])\n",
    "\n",
    "\n",
    "average_school.head()\n",
    "\n",
    "total_students = average_school[\"Student ID\"].count()\n",
    "\n",
    "per_student_budget = school_name[\"budget\"].sum()/average_school[\"Student ID\"].count()\n",
    "\n",
    "In_Reading_Score = average_school[\"reading_score\"].mean()\n",
    "In_Reading_Score.head(15)\n",
    "\n",
    "In_Math_Score = average_school[\"math_score\"].mean()\n",
    "In_Math_Score.head(15)\n",
    "\n",
    "# % Passing Math_Score\n",
    "\n",
    "In_Passing_Math_Score = school_data_complete[school_data_complete.math_score >= 70]\n",
    "T_In_Math = In_Passing_Math_Score.groupby([\"school_name\"])\n",
    "\n",
    "T_In_Math = (T_In_Math[\"math_score\"].count()/average_school[\"math_score\"].count())*100\n",
    "\n",
    "# % Passing Reading Score\n",
    "\n",
    "In_Passing_Reading_Score = school_data_complete[school_data_complete.reading_score >= 70]\n",
    "T_In_Reading = In_Passing_Reading_Score.groupby([\"school_name\"])\n",
    "\n",
    "T_In_Reading = (T_In_Reading[\"reading_score\"].count()/average_school[\"reading_score\"].count())*100\n",
    "\n",
    "\n",
    "o_passing_score = (T_In_Math + T_In_Reading)/2\n",
    "\n",
    "summary_table = pd.DataFrame({\"School Type\": school_type,\n",
    "                              \"Total Students\" :total_students,\n",
    "                            \"Total Budget\": In_total_budget,\n",
    "                            \"Per Student Budget\": per_student_budget,\n",
    "                            \"Average Math Score\": In_Math_Score,\n",
    "                            \"Average Reading Score\": In_Reading_Score,\n",
    "                            \"% Passing Math Score\" : T_In_Math,\n",
    "                            \"% Passing Reading Score\" : T_In_Reading,\n",
    "                            \"Over All Passing Score\" : o_passing_score})\n",
    "\n"
   ]
  },
  {
   "cell_type": "code",
   "execution_count": 61,
   "metadata": {},
   "outputs": [
    {
     "data": {
      "text/html": [
       "<div>\n",
       "<style scoped>\n",
       "    .dataframe tbody tr th:only-of-type {\n",
       "        vertical-align: middle;\n",
       "    }\n",
       "\n",
       "    .dataframe tbody tr th {\n",
       "        vertical-align: top;\n",
       "    }\n",
       "\n",
       "    .dataframe thead th {\n",
       "        text-align: right;\n",
       "    }\n",
       "</style>\n",
       "<table border=\"1\" class=\"dataframe\">\n",
       "  <thead>\n",
       "    <tr style=\"text-align: right;\">\n",
       "      <th></th>\n",
       "      <th>School Type</th>\n",
       "      <th>Total Students</th>\n",
       "      <th>Total Budget</th>\n",
       "      <th>Per Student Budget</th>\n",
       "      <th>Average Math Score</th>\n",
       "      <th>Average Reading Score</th>\n",
       "      <th>% Passing Math Score</th>\n",
       "      <th>% Passing Reading Score</th>\n",
       "      <th>Over All Passing Score</th>\n",
       "    </tr>\n",
       "    <tr>\n",
       "      <th>school_name</th>\n",
       "      <th></th>\n",
       "      <th></th>\n",
       "      <th></th>\n",
       "      <th></th>\n",
       "      <th></th>\n",
       "      <th></th>\n",
       "      <th></th>\n",
       "      <th></th>\n",
       "      <th></th>\n",
       "    </tr>\n",
       "  </thead>\n",
       "  <tbody>\n",
       "    <tr>\n",
       "      <th>Cabrera High School</th>\n",
       "      <td>Charter</td>\n",
       "      <td>1858</td>\n",
       "      <td>1081356</td>\n",
       "      <td>582.0</td>\n",
       "      <td>83.061895</td>\n",
       "      <td>83.975780</td>\n",
       "      <td>94.133477</td>\n",
       "      <td>97.039828</td>\n",
       "      <td>95.586652</td>\n",
       "    </tr>\n",
       "    <tr>\n",
       "      <th>Thomas High School</th>\n",
       "      <td>Charter</td>\n",
       "      <td>1635</td>\n",
       "      <td>1043130</td>\n",
       "      <td>638.0</td>\n",
       "      <td>83.418349</td>\n",
       "      <td>83.848930</td>\n",
       "      <td>93.272171</td>\n",
       "      <td>97.308869</td>\n",
       "      <td>95.290520</td>\n",
       "    </tr>\n",
       "    <tr>\n",
       "      <th>Pena High School</th>\n",
       "      <td>Charter</td>\n",
       "      <td>962</td>\n",
       "      <td>585858</td>\n",
       "      <td>609.0</td>\n",
       "      <td>83.839917</td>\n",
       "      <td>84.044699</td>\n",
       "      <td>94.594595</td>\n",
       "      <td>95.945946</td>\n",
       "      <td>95.270270</td>\n",
       "    </tr>\n",
       "    <tr>\n",
       "      <th>Griffin High School</th>\n",
       "      <td>Charter</td>\n",
       "      <td>1468</td>\n",
       "      <td>917500</td>\n",
       "      <td>625.0</td>\n",
       "      <td>83.351499</td>\n",
       "      <td>83.816757</td>\n",
       "      <td>93.392371</td>\n",
       "      <td>97.138965</td>\n",
       "      <td>95.265668</td>\n",
       "    </tr>\n",
       "    <tr>\n",
       "      <th>Wilson High School</th>\n",
       "      <td>Charter</td>\n",
       "      <td>2283</td>\n",
       "      <td>1319574</td>\n",
       "      <td>578.0</td>\n",
       "      <td>83.274201</td>\n",
       "      <td>83.989488</td>\n",
       "      <td>93.867718</td>\n",
       "      <td>96.539641</td>\n",
       "      <td>95.203679</td>\n",
       "    </tr>\n",
       "    <tr>\n",
       "      <th>Wright High School</th>\n",
       "      <td>Charter</td>\n",
       "      <td>1800</td>\n",
       "      <td>1049400</td>\n",
       "      <td>583.0</td>\n",
       "      <td>83.682222</td>\n",
       "      <td>83.955000</td>\n",
       "      <td>93.333333</td>\n",
       "      <td>96.611111</td>\n",
       "      <td>94.972222</td>\n",
       "    </tr>\n",
       "    <tr>\n",
       "      <th>Shelton High School</th>\n",
       "      <td>Charter</td>\n",
       "      <td>1761</td>\n",
       "      <td>1056600</td>\n",
       "      <td>600.0</td>\n",
       "      <td>83.359455</td>\n",
       "      <td>83.725724</td>\n",
       "      <td>93.867121</td>\n",
       "      <td>95.854628</td>\n",
       "      <td>94.860875</td>\n",
       "    </tr>\n",
       "    <tr>\n",
       "      <th>Holden High School</th>\n",
       "      <td>Charter</td>\n",
       "      <td>427</td>\n",
       "      <td>248087</td>\n",
       "      <td>581.0</td>\n",
       "      <td>83.803279</td>\n",
       "      <td>83.814988</td>\n",
       "      <td>92.505855</td>\n",
       "      <td>96.252927</td>\n",
       "      <td>94.379391</td>\n",
       "    </tr>\n",
       "    <tr>\n",
       "      <th>Bailey High School</th>\n",
       "      <td>District</td>\n",
       "      <td>4976</td>\n",
       "      <td>3124928</td>\n",
       "      <td>628.0</td>\n",
       "      <td>77.048432</td>\n",
       "      <td>81.033963</td>\n",
       "      <td>66.680064</td>\n",
       "      <td>81.933280</td>\n",
       "      <td>74.306672</td>\n",
       "    </tr>\n",
       "    <tr>\n",
       "      <th>Hernandez High School</th>\n",
       "      <td>District</td>\n",
       "      <td>4635</td>\n",
       "      <td>3022020</td>\n",
       "      <td>652.0</td>\n",
       "      <td>77.289752</td>\n",
       "      <td>80.934412</td>\n",
       "      <td>66.752967</td>\n",
       "      <td>80.862999</td>\n",
       "      <td>73.807983</td>\n",
       "    </tr>\n",
       "    <tr>\n",
       "      <th>Ford High School</th>\n",
       "      <td>District</td>\n",
       "      <td>2739</td>\n",
       "      <td>1763916</td>\n",
       "      <td>644.0</td>\n",
       "      <td>77.102592</td>\n",
       "      <td>80.746258</td>\n",
       "      <td>68.309602</td>\n",
       "      <td>79.299014</td>\n",
       "      <td>73.804308</td>\n",
       "    </tr>\n",
       "    <tr>\n",
       "      <th>Johnson High School</th>\n",
       "      <td>District</td>\n",
       "      <td>4761</td>\n",
       "      <td>3094650</td>\n",
       "      <td>650.0</td>\n",
       "      <td>77.072464</td>\n",
       "      <td>80.966394</td>\n",
       "      <td>66.057551</td>\n",
       "      <td>81.222432</td>\n",
       "      <td>73.639992</td>\n",
       "    </tr>\n",
       "    <tr>\n",
       "      <th>Huang High School</th>\n",
       "      <td>District</td>\n",
       "      <td>2917</td>\n",
       "      <td>1910635</td>\n",
       "      <td>655.0</td>\n",
       "      <td>76.629414</td>\n",
       "      <td>81.182722</td>\n",
       "      <td>65.683922</td>\n",
       "      <td>81.316421</td>\n",
       "      <td>73.500171</td>\n",
       "    </tr>\n",
       "    <tr>\n",
       "      <th>Figueroa High School</th>\n",
       "      <td>District</td>\n",
       "      <td>2949</td>\n",
       "      <td>1884411</td>\n",
       "      <td>639.0</td>\n",
       "      <td>76.711767</td>\n",
       "      <td>81.158020</td>\n",
       "      <td>65.988471</td>\n",
       "      <td>80.739234</td>\n",
       "      <td>73.363852</td>\n",
       "    </tr>\n",
       "    <tr>\n",
       "      <th>Rodriguez High School</th>\n",
       "      <td>District</td>\n",
       "      <td>3999</td>\n",
       "      <td>2547363</td>\n",
       "      <td>637.0</td>\n",
       "      <td>76.842711</td>\n",
       "      <td>80.744686</td>\n",
       "      <td>66.366592</td>\n",
       "      <td>80.220055</td>\n",
       "      <td>73.293323</td>\n",
       "    </tr>\n",
       "  </tbody>\n",
       "</table>\n",
       "</div>"
      ],
      "text/plain": [
       "                      School Type  Total Students  Total Budget  \\\n",
       "school_name                                                       \n",
       "Cabrera High School       Charter            1858       1081356   \n",
       "Thomas High School        Charter            1635       1043130   \n",
       "Pena High School          Charter             962        585858   \n",
       "Griffin High School       Charter            1468        917500   \n",
       "Wilson High School        Charter            2283       1319574   \n",
       "Wright High School        Charter            1800       1049400   \n",
       "Shelton High School       Charter            1761       1056600   \n",
       "Holden High School        Charter             427        248087   \n",
       "Bailey High School       District            4976       3124928   \n",
       "Hernandez High School    District            4635       3022020   \n",
       "Ford High School         District            2739       1763916   \n",
       "Johnson High School      District            4761       3094650   \n",
       "Huang High School        District            2917       1910635   \n",
       "Figueroa High School     District            2949       1884411   \n",
       "Rodriguez High School    District            3999       2547363   \n",
       "\n",
       "                       Per Student Budget  Average Math Score  \\\n",
       "school_name                                                     \n",
       "Cabrera High School                 582.0           83.061895   \n",
       "Thomas High School                  638.0           83.418349   \n",
       "Pena High School                    609.0           83.839917   \n",
       "Griffin High School                 625.0           83.351499   \n",
       "Wilson High School                  578.0           83.274201   \n",
       "Wright High School                  583.0           83.682222   \n",
       "Shelton High School                 600.0           83.359455   \n",
       "Holden High School                  581.0           83.803279   \n",
       "Bailey High School                  628.0           77.048432   \n",
       "Hernandez High School               652.0           77.289752   \n",
       "Ford High School                    644.0           77.102592   \n",
       "Johnson High School                 650.0           77.072464   \n",
       "Huang High School                   655.0           76.629414   \n",
       "Figueroa High School                639.0           76.711767   \n",
       "Rodriguez High School               637.0           76.842711   \n",
       "\n",
       "                       Average Reading Score  % Passing Math Score  \\\n",
       "school_name                                                          \n",
       "Cabrera High School                83.975780             94.133477   \n",
       "Thomas High School                 83.848930             93.272171   \n",
       "Pena High School                   84.044699             94.594595   \n",
       "Griffin High School                83.816757             93.392371   \n",
       "Wilson High School                 83.989488             93.867718   \n",
       "Wright High School                 83.955000             93.333333   \n",
       "Shelton High School                83.725724             93.867121   \n",
       "Holden High School                 83.814988             92.505855   \n",
       "Bailey High School                 81.033963             66.680064   \n",
       "Hernandez High School              80.934412             66.752967   \n",
       "Ford High School                   80.746258             68.309602   \n",
       "Johnson High School                80.966394             66.057551   \n",
       "Huang High School                  81.182722             65.683922   \n",
       "Figueroa High School               81.158020             65.988471   \n",
       "Rodriguez High School              80.744686             66.366592   \n",
       "\n",
       "                       % Passing Reading Score  Over All Passing Score  \n",
       "school_name                                                             \n",
       "Cabrera High School                  97.039828               95.586652  \n",
       "Thomas High School                   97.308869               95.290520  \n",
       "Pena High School                     95.945946               95.270270  \n",
       "Griffin High School                  97.138965               95.265668  \n",
       "Wilson High School                   96.539641               95.203679  \n",
       "Wright High School                   96.611111               94.972222  \n",
       "Shelton High School                  95.854628               94.860875  \n",
       "Holden High School                   96.252927               94.379391  \n",
       "Bailey High School                   81.933280               74.306672  \n",
       "Hernandez High School                80.862999               73.807983  \n",
       "Ford High School                     79.299014               73.804308  \n",
       "Johnson High School                  81.222432               73.639992  \n",
       "Huang High School                    81.316421               73.500171  \n",
       "Figueroa High School                 80.739234               73.363852  \n",
       "Rodriguez High School                80.220055               73.293323  "
      ]
     },
     "execution_count": 61,
     "metadata": {},
     "output_type": "execute_result"
    }
   ],
   "source": [
    "summary_table['School Type'] = [ i[1].values[0] for i in summary_table['School Type'].values]\n",
    "\n",
    "summary_table.sort_values(\"Over All Passing Score\", ascending=False)\n",
    "\n",
    "# summary_table['School Type'][0][1].values[0]"
   ]
  },
  {
   "cell_type": "markdown",
   "metadata": {},
   "source": [
    "## Bottom Performing Schools (By Passing Rate)"
   ]
  },
  {
   "cell_type": "markdown",
   "metadata": {},
   "source": [
    "* Sort and display the five worst-performing schools"
   ]
  },
  {
   "cell_type": "code",
   "execution_count": null,
   "metadata": {
    "scrolled": true
   },
   "outputs": [],
   "source": [
    "summary_table.sort_values(\"Over All Passing Score\")"
   ]
  },
  {
   "cell_type": "markdown",
   "metadata": {
    "collapsed": true
   },
   "source": [
    "## Math Scores by Grade"
   ]
  },
  {
   "cell_type": "markdown",
   "metadata": {},
   "source": [
    "* Create a table that lists the average Reading Score for students of each grade level (9th, 10th, 11th, 12th) at each school.\n",
    "\n",
    "  * Create a pandas series for each grade. Hint: use a conditional statement.\n",
    "  \n",
    "  * Group each series by school\n",
    "  \n",
    "  * Combine the series into a dataframe\n",
    "  \n",
    "  * Optional: give the displayed data cleaner formatting"
   ]
  },
  {
   "cell_type": "code",
   "execution_count": null,
   "metadata": {},
   "outputs": [],
   "source": [
    "9th_Math = school_data_complete[school_data_complete.grade == \"9th\"]\n",
    "10th_Math = school_data_complete[school_data_complete.grade == \"10th\"]\n",
    "11th_Math = school_data_complete[school_data_complete.grade == \"11th\"]\n",
    "12th_Math = school_data_complete[school_data_complete.grade == \"12th\"]\n",
    "\n",
    "9th_Math"
   ]
  },
  {
   "cell_type": "markdown",
   "metadata": {},
   "source": [
    "## Reading Score by Grade "
   ]
  },
  {
   "cell_type": "markdown",
   "metadata": {},
   "source": [
    "* Perform the same operations as above for reading scores"
   ]
  },
  {
   "cell_type": "code",
   "execution_count": null,
   "metadata": {},
   "outputs": [],
   "source": []
  },
  {
   "cell_type": "markdown",
   "metadata": {},
   "source": [
    "## Scores by School Spending"
   ]
  },
  {
   "cell_type": "markdown",
   "metadata": {},
   "source": [
    "* Create a table that breaks down school performances based on average Spending Ranges (Per Student). Use 4 reasonable bins to group school spending. Include in the table each of the following:\n",
    "  * Average Math Score\n",
    "  * Average Reading Score\n",
    "  * % Passing Math\n",
    "  * % Passing Reading\n",
    "  * Overall Passing Rate (Average of the above two)"
   ]
  },
  {
   "cell_type": "code",
   "execution_count": null,
   "metadata": {},
   "outputs": [],
   "source": [
    "# Sample bins. Feel free to create your own bins.\n",
    "spending_bins = [0, 585, 615, 645, 675]\n",
    "group_names = [\"<$585\", \"$585-615\", \"$615-645\", \"$645-675\"]"
   ]
  },
  {
   "cell_type": "code",
   "execution_count": null,
   "metadata": {},
   "outputs": [],
   "source": []
  },
  {
   "cell_type": "markdown",
   "metadata": {},
   "source": [
    "## Scores by School Size"
   ]
  },
  {
   "cell_type": "markdown",
   "metadata": {},
   "source": [
    "* Perform the same operations as above, based on school size."
   ]
  },
  {
   "cell_type": "code",
   "execution_count": null,
   "metadata": {},
   "outputs": [],
   "source": [
    "# Sample bins. Feel free to create your own bins.\n",
    "size_bins = [0, 1000, 2000, 5000]\n",
    "group_names = [\"Small (<1000)\", \"Medium (1000-2000)\", \"Large (2000-5000)\"]"
   ]
  },
  {
   "cell_type": "code",
   "execution_count": null,
   "metadata": {
    "scrolled": true
   },
   "outputs": [],
   "source": []
  },
  {
   "cell_type": "markdown",
   "metadata": {},
   "source": [
    "## Scores by School Type"
   ]
  },
  {
   "cell_type": "markdown",
   "metadata": {},
   "source": [
    "* Perform the same operations as above, based on school type."
   ]
  },
  {
   "cell_type": "code",
   "execution_count": null,
   "metadata": {},
   "outputs": [],
   "source": []
  },
  {
   "cell_type": "code",
   "execution_count": null,
   "metadata": {},
   "outputs": [],
   "source": []
  }
 ],
 "metadata": {
  "anaconda-cloud": {},
  "kernel_info": {
   "name": "python3"
  },
  "kernelspec": {
   "display_name": "Python 3",
   "language": "python",
   "name": "python3"
  },
  "language_info": {
   "codemirror_mode": {
    "name": "ipython",
    "version": 3
   },
   "file_extension": ".py",
   "mimetype": "text/x-python",
   "name": "python",
   "nbconvert_exporter": "python",
   "pygments_lexer": "ipython3",
   "version": "3.7.0"
  },
  "nteract": {
   "version": "0.8.4"
  }
 },
 "nbformat": 4,
 "nbformat_minor": 1
}
